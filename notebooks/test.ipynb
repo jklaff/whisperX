{
 "cells": [
  {
   "cell_type": "code",
   "execution_count": null,
   "metadata": {},
   "outputs": [],
   "source": [
    "import whisperx"
   ]
  },
  {
   "cell_type": "code",
   "execution_count": null,
   "metadata": {},
   "outputs": [],
   "source": [
    "from os import getenv\n",
    "from torch import cuda\n",
    "WHISPER_BATCH_SIZE = 2\n",
    "LANGUAGE = \"de\"\n",
    "asr_options = {\n",
    "            \"suppress_blank\": getenv(\"WHISPER_SUPPRESS_BLANK\", \"True\").lower() == \"true\",\n",
    "            \"temperatures\": [float(getenv(\"WHISPER_TEMPERATURE\", 0))],\n",
    "            \"log_prob_threshold\": float(getenv(\"WHISPER_LOGPROB_THRESHOLD\", -0.8)),\n",
    "            \"no_speech_threshold\": float(getenv(\"WHISPER_NO_SPEECH_THRESHOLD\", 0.4)),\n",
    "            \"beam_size\": int(getenv(\"WHISPER_BEAM_SIZE\", 5)),\n",
    "            \"repetition_penalty\": float(getenv(\"WHISPER_REPETITION_PENALTY\", 1)),\n",
    "            \"prompt_reset_on_temperature\": float(getenv(\"WHISPER_PROMPT_RESET_ON_TEMPERATURE\", 0.5)),\n",
    "            \"no_repeat_ngram_size\": int(getenv(\"WHISPER_NO_REPEAT_NGRAM_SIZE\", 0)),\n",
    "            \"condition_on_previous_text\": getenv(\"WHISPER_CONDITION_ON_PREVIOUS_TEXT\", \"False\").lower() == \"true\",\n",
    "        }"
   ]
  },
  {
   "cell_type": "code",
   "execution_count": null,
   "metadata": {},
   "outputs": [],
   "source": [
    "model_string = \"large-v2\"\n",
    "download_root = \"../../speechtotext/poc_server/whisper/whisperx\"\n",
    "model = whisperx.load_model(\n",
    "            model_string, \n",
    "            asr_options=asr_options,\n",
    "            device=\"cuda\" if cuda.is_available() else \"cpu\", \n",
    "            compute_type=\"int8\" if cuda.is_available() else \"auto\",\n",
    "            download_root=download_root,\n",
    "            return_scores=True,)"
   ]
  },
  {
   "cell_type": "code",
   "execution_count": null,
   "metadata": {},
   "outputs": [],
   "source": [
    "import faster_whisper\n",
    "model.tokenizer = faster_whisper.tokenizer.Tokenizer(model.model.hf_tokenizer,\n",
    "                                                                    model.model.model.is_multilingual, \n",
    "                                                                    task=\"transcribe\",\n",
    "                                                                    language=LANGUAGE\n",
    "                                                                    )"
   ]
  },
  {
   "cell_type": "code",
   "execution_count": null,
   "metadata": {},
   "outputs": [],
   "source": [
    "import soundfile as sf\n",
    "from IPython.display import Audio\n",
    "test_file = \"/Users/jklaff/db_dumps/1_untertitel-von-stephanie-geiges.wav\"\n",
    "speech, sr = sf.read(test_file)\n",
    "Audio(speech, rate=sr)"
   ]
  },
  {
   "cell_type": "code",
   "execution_count": null,
   "metadata": {},
   "outputs": [],
   "source": [
    "inputs = [{\"inputs\": speech.astype(\"float32\")}]\n",
    "outputs = model(inputs, batch_size=WHISPER_BATCH_SIZE, language=LANGUAGE)\n",
    "outputs"
   ]
  },
  {
   "cell_type": "code",
   "execution_count": null,
   "metadata": {},
   "outputs": [],
   "source": [
    "test_list = [\n",
    "    (1,2,3),\n",
    "    (1,2,3),\n",
    "    (1,2,3),\n",
    "    (1,2,3),\n",
    "    \n",
    "]\n",
    "a_list, b_list, c_list = [list(x) for x in zip(*test_list)]"
   ]
  },
  {
   "cell_type": "code",
   "execution_count": null,
   "metadata": {},
   "outputs": [],
   "source": [
    "b_list"
   ]
  },
  {
   "cell_type": "code",
   "execution_count": null,
   "metadata": {},
   "outputs": [],
   "source": []
  }
 ],
 "metadata": {
  "kernelspec": {
   "display_name": "whisperx",
   "language": "python",
   "name": "python3"
  },
  "language_info": {
   "codemirror_mode": {
    "name": "ipython",
    "version": 3
   },
   "file_extension": ".py",
   "mimetype": "text/x-python",
   "name": "python",
   "nbconvert_exporter": "python",
   "pygments_lexer": "ipython3",
   "version": "3.11.7"
  }
 },
 "nbformat": 4,
 "nbformat_minor": 2
}
